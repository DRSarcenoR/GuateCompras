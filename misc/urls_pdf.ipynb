{
 "cells": [
  {
   "cell_type": "code",
   "execution_count": 1,
   "metadata": {},
   "outputs": [],
   "source": [
    "import PyPDF2"
   ]
  },
  {
   "cell_type": "code",
   "execution_count": 5,
   "metadata": {},
   "outputs": [],
   "source": [
    "def extraer_urls_hipervinculos(pdf_path):\n",
    "    urls = []\n",
    "    with open(pdf_path, 'rb') as file:\n",
    "        reader = PyPDF2.PdfReader(file)\n",
    "        for page_number, page in enumerate(reader.pages):\n",
    "            if '/Annots' in page:\n",
    "                annotations = page['/Annots']\n",
    "                for annotation in annotations:\n",
    "                    uri = annotation.get_object()\n",
    "                    if '/A' in uri and '/URI' in uri['/A']:\n",
    "                        url = uri['/A']['/URI']\n",
    "                        urls.append((page_number + 1, url))\n",
    "    return urls"
   ]
  },
  {
   "cell_type": "code",
   "execution_count": 6,
   "metadata": {},
   "outputs": [],
   "source": [
    "urls = extraer_urls_hipervinculos('politica_publicacion_guatecompras_OCDS.pdf')"
   ]
  },
  {
   "cell_type": "code",
   "execution_count": 7,
   "metadata": {},
   "outputs": [
    {
     "data": {
      "text/plain": [
       "[(1, 'https://ocds.guatecompras.gt/'),\n",
       " (2, 'https://ocds.guatecompras.gt/'),\n",
       " (30, 'https://ocds.guatecompras.gt/'),\n",
       " (31, 'https://ocds.guatecompras.gt/')]"
      ]
     },
     "execution_count": 7,
     "metadata": {},
     "output_type": "execute_result"
    }
   ],
   "source": [
    "urls"
   ]
  },
  {
   "cell_type": "code",
   "execution_count": null,
   "metadata": {},
   "outputs": [],
   "source": []
  }
 ],
 "metadata": {
  "kernelspec": {
   "display_name": "testenv",
   "language": "python",
   "name": "python3"
  },
  "language_info": {
   "codemirror_mode": {
    "name": "ipython",
    "version": 3
   },
   "file_extension": ".py",
   "mimetype": "text/x-python",
   "name": "python",
   "nbconvert_exporter": "python",
   "pygments_lexer": "ipython3",
   "version": "3.13.0"
  }
 },
 "nbformat": 4,
 "nbformat_minor": 2
}
