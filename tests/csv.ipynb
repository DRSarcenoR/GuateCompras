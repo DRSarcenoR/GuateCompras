{
 "cells": [
  {
   "cell_type": "code",
   "execution_count": 35,
   "metadata": {},
   "outputs": [],
   "source": [
    "import pandas as pd\n",
    "from datetime import datetime\n",
    "import numpy as np\n",
    "\n",
    "import warnings\n",
    "warnings.filterwarnings('ignore')"
   ]
  },
  {
   "cell_type": "code",
   "execution_count": null,
   "metadata": {},
   "outputs": [],
   "source": [
    "hoy = datetime.today()\n",
    "year = hoy.year"
   ]
  },
  {
   "cell_type": "code",
   "execution_count": 14,
   "metadata": {},
   "outputs": [],
   "source": [
    "# para quitar el problema de las comillas\n",
    "def eliminar_comillas(input_file : str, output_file : str, encoding : str = 'utf-16-le'):\n",
    "    # Abrir el archivo original en modo lectura\n",
    "    with open(input_file, 'r', encoding=encoding) as infile:\n",
    "        # Leer todo el contenido del archivo\n",
    "        data = infile.read()\n",
    "        \n",
    "        # Reemplazar todas las comillas dobles por nada (eliminarlas)\n",
    "        data_sin_comillas = data.replace('\"', '')\n",
    "        \n",
    "        # Guardar el archivo modificado\n",
    "        with open(output_file, 'w', encoding=encoding) as outfile:\n",
    "            outfile.write(data_sin_comillas)"
   ]
  },
  {
   "cell_type": "code",
   "execution_count": null,
   "metadata": {},
   "outputs": [],
   "source": [
    "# quitamos las comillas\n",
    "for x in range(2005, year + 1):\n",
    "    input_file = f'../data/scrapped/CPE_NIT_{x}.csv'\n",
    "    output_file = f'../data/scrapped/sin_comillas/CPE_NIT_{x}.csv'\n",
    "\n",
    "    # usamos la funcion\n",
    "    eliminar_comillas(input_file=input_file, output_file=output_file)"
   ]
  },
  {
   "cell_type": "code",
   "execution_count": 24,
   "metadata": {},
   "outputs": [],
   "source": [
    "# agregamos el año\n",
    "for j in range(2005, year + 1):\n",
    "    name_input = f'../data/scrapped/sin_comillas/CPE_NIT_{j}.csv'\n",
    "    name_output = f'../data/data_guatecompras_importante/CPE_NIT_{j}.csv'\n",
    "    df = pd.read_csv(name_input, sep=',', encoding='utf-16-le')\n",
    "    df['ANIO'] = j\n",
    "    df.to_csv(name_output, index=False)"
   ]
  },
  {
   "cell_type": "code",
   "execution_count": 25,
   "metadata": {},
   "outputs": [
    {
     "name": "stdout",
     "output_type": "stream",
     "text": [
      "2005\n",
      "2006\n",
      "2007\n",
      "2008\n",
      "2009\n",
      "2010\n",
      "2011\n",
      "2012\n",
      "2013\n",
      "2014\n",
      "2015\n",
      "2016\n",
      "2017\n",
      "2018\n",
      "2019\n",
      "2020\n",
      "2021\n",
      "2022\n",
      "2023\n",
      "2024\n"
     ]
    }
   ],
   "source": [
    "dfs = []\n",
    "for i in range(2005, year + 1):\n",
    "    print(i)\n",
    "    name = f'../data/data_guatecompras_importante/CPE_NIT_{i}.csv'\n",
    "    df = pd.read_csv(name, sep=',', encoding='ISO-8859-1')\n",
    "    dfs.append(df)"
   ]
  },
  {
   "cell_type": "code",
   "execution_count": 26,
   "metadata": {},
   "outputs": [],
   "source": [
    "bigdf = pd.concat(dfs, axis=0, ignore_index=True)"
   ]
  },
  {
   "cell_type": "code",
   "execution_count": 38,
   "metadata": {},
   "outputs": [],
   "source": [
    "bigdf.to_csv('../data/PROV_CPE_2005-2024_NOV.csv', index=False)\n",
    "bigdf.to_excel('../data/PROV_CPE_2005-2024_NOV.xlsx', index=False)"
   ]
  },
  {
   "cell_type": "code",
   "execution_count": 39,
   "metadata": {},
   "outputs": [
    {
     "name": "stdout",
     "output_type": "stream",
     "text": [
      "(31300, 5)\n"
     ]
    }
   ],
   "source": [
    "print(bigdf.shape)"
   ]
  },
  {
   "cell_type": "code",
   "execution_count": 42,
   "metadata": {},
   "outputs": [
    {
     "data": {
      "text/plain": [
       "(7920,)"
      ]
     },
     "execution_count": 42,
     "metadata": {},
     "output_type": "execute_result"
    }
   ],
   "source": [
    "bigdf.NIT.unique().shape"
   ]
  },
  {
   "cell_type": "code",
   "execution_count": null,
   "metadata": {},
   "outputs": [],
   "source": []
  }
 ],
 "metadata": {
  "kernelspec": {
   "display_name": "Python 3",
   "language": "python",
   "name": "python3"
  },
  "language_info": {
   "codemirror_mode": {
    "name": "ipython",
    "version": 3
   },
   "file_extension": ".py",
   "mimetype": "text/x-python",
   "name": "python",
   "nbconvert_exporter": "python",
   "pygments_lexer": "ipython3",
   "version": "3.9.20"
  }
 },
 "nbformat": 4,
 "nbformat_minor": 2
}
