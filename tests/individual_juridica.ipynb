{
 "cells": [
  {
   "cell_type": "code",
   "execution_count": 17,
   "metadata": {},
   "outputs": [],
   "source": [
    "import pandas as pd\n",
    "import re"
   ]
  },
  {
   "cell_type": "code",
   "execution_count": null,
   "metadata": {},
   "outputs": [],
   "source": [
    "def class_persona(nombre : str) -> str:\n",
    "    # palabras para personas jurídicas\n",
    "    palabras_clave = ['S.A.', 'S. A.', 'SOCIEDAD', 'ANONIMA', 'LIMITADA', 'CORPORACION', 'FUNDACION', 'ASOCIACION', 'INSTITUCION', 'INSTITUTO', 'COLEGIO', 'COPROPIEDAD', 'IMPORTACIONES', 'EXPORTACIONES', 'MATERIAL', 'MAQUINARIA', 'INDUSTRIA', 'MUNICIPAL', 'EMPRESA', 'CONSTRUCTORA', 'DESARROLLOS', 'DESARROLLADORES', 'DIRECCION', 'DIARIO', 'GENERAL', 'PROGRAMA', 'NACIONES', 'NACIONAL', 'COMERCIALIZADORA', 'ALIMENTOS', 'COMPAÃA', 'AGROQUIMICOS', 'FERTILIZANTES', 'TRABAJADORES', 'SERVICIOS', 'COMUNICACIONES', 'REGIMEN', 'UNIDAD', 'CORPORATION', 'ORGANIZACION', 'OFICINA', 'PROYECTOS', 'IGLESIA', 'CONSTRUMEGA', 'CONSTRUCCIONES', 'COMITE', 'GROUP', 'INGENIERIA', 'AGROSAN', 'RELIGIOSAS', 'ENRICAR', 'LOPEZ DILMA', 'GUATEMALA', 'REGISTRO', 'MILITAR', 'NAVAL', 'COMANDO', 'CONSORCIO', 'SOCIETA', 'CO.', 'LTDA.', 'INC.', 'INTERNATIONAL', 'ASOCIADOS']\n",
    "\n",
    "\n",
    "    # comprobamos si el nombre tiene alguna de estas palabras\n",
    "    for palabra in palabras_clave:\n",
    "        if palabra in nombre:\n",
    "            return 'J'\n",
    "    \n",
    "    return 'I'"
   ]
  },
  {
   "cell_type": "code",
   "execution_count": 19,
   "metadata": {},
   "outputs": [],
   "source": [
    "df = pd.read_csv('../data/PROV_CPE_2005-2024_NOV.csv', sep=',')"
   ]
  },
  {
   "cell_type": "code",
   "execution_count": 20,
   "metadata": {},
   "outputs": [],
   "source": [
    "df['PJ/PI'] = df['NOMBRE'].apply(class_persona)"
   ]
  },
  {
   "cell_type": "code",
   "execution_count": 21,
   "metadata": {},
   "outputs": [
    {
     "name": "stdout",
     "output_type": "stream",
     "text": [
      "<class 'pandas.core.frame.DataFrame'>\n",
      "RangeIndex: 31300 entries, 0 to 31299\n",
      "Data columns (total 6 columns):\n",
      " #   Column    Non-Null Count  Dtype  \n",
      "---  ------    --------------  -----  \n",
      " 0   NIT       31300 non-null  object \n",
      " 1   NOMBRE    31300 non-null  object \n",
      " 2   TOTAL     31300 non-null  float64\n",
      " 3   CANTIDAD  31300 non-null  int64  \n",
      " 4   ANIO      31300 non-null  int64  \n",
      " 5   PJ/PI     31300 non-null  object \n",
      "dtypes: float64(1), int64(2), object(3)\n",
      "memory usage: 1.4+ MB\n"
     ]
    }
   ],
   "source": [
    "df.info()"
   ]
  },
  {
   "cell_type": "code",
   "execution_count": 25,
   "metadata": {},
   "outputs": [],
   "source": [
    "df = df.drop_duplicates(subset='NIT', keep='first')"
   ]
  },
  {
   "cell_type": "code",
   "execution_count": 26,
   "metadata": {},
   "outputs": [],
   "source": [
    "df.to_excel('../data/pjpi.xlsx', index=False)"
   ]
  },
  {
   "cell_type": "code",
   "execution_count": null,
   "metadata": {},
   "outputs": [],
   "source": []
  }
 ],
 "metadata": {
  "kernelspec": {
   "display_name": "guatecompras",
   "language": "python",
   "name": "python3"
  },
  "language_info": {
   "codemirror_mode": {
    "name": "ipython",
    "version": 3
   },
   "file_extension": ".py",
   "mimetype": "text/x-python",
   "name": "python",
   "nbconvert_exporter": "python",
   "pygments_lexer": "ipython3",
   "version": "3.9.20"
  }
 },
 "nbformat": 4,
 "nbformat_minor": 2
}
