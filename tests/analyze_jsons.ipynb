{
 "cells": [
  {
   "cell_type": "code",
   "execution_count": 6,
   "metadata": {},
   "outputs": [],
   "source": [
    "# librerías de web scrapping y conexión a APIs\n",
    "import requests\n",
    "\n",
    "\n",
    "# DS y DA\n",
    "import pandas as pd\n",
    "import numpy as np\n",
    "\n",
    "\n",
    "# Extras y de apoyo\n",
    "import re\n",
    "import json\n",
    "import io\n",
    "import zipfile\n",
    "import os\n",
    "from datetime import datetime\n",
    "\n",
    "\n",
    "# al diablo, odio las warnings\n",
    "import warnings\n",
    "warnings.filterwarnings('ignore')"
   ]
  },
  {
   "cell_type": "code",
   "execution_count": 21,
   "metadata": {},
   "outputs": [],
   "source": [
    "def nextDate(year : int, month : int) -> tuple[int, int]:\n",
    "    nextMonth = month + 1 if month < 12 else 1\n",
    "    nextYear = year if month < 12 else year + 1\n",
    "    return nextMonth, nextYear\n",
    "\n",
    "def previousDate(year : int, month : int) -> tuple[int,int]:\n",
    "    prevMonth = month - 1 if month > 1 else 12\n",
    "    prevYear = year if month > 1 else year - 1\n",
    "    return prevMonth, prevYear"
   ]
  },
  {
   "cell_type": "code",
   "execution_count": 26,
   "metadata": {},
   "outputs": [],
   "source": [
    "def api_request_gtc(response : requests.models.Response) -> tuple[dict, int]:\n",
    "    if response.status_code == 200:\n",
    "        zip_file = zipfile.ZipFile(io.BytesIO(response.content))\n",
    "\n",
    "        for file_name in zip_file.namelist():\n",
    "            if file_name.endswith('.json'):\n",
    "                with zip_file.open(file_name) as json_file:\n",
    "                    datos = json.load(json_file)\n",
    "        return datos, response.status_code\n",
    "    else:\n",
    "        return {}, response.status_code"
   ]
  },
  {
   "cell_type": "code",
   "execution_count": 24,
   "metadata": {},
   "outputs": [],
   "source": [
    "# condiciones iniciales\n",
    "year = 2020\n",
    "month = 1\n",
    "\n",
    "# condiciones finales\n",
    "today = datetime.now()\n",
    "last_month, last_year = previousDate(today.year, today.month)"
   ]
  },
  {
   "cell_type": "code",
   "execution_count": 18,
   "metadata": {},
   "outputs": [],
   "source": [
    "# sabiendo que solo hay datos a partir de 2020-01-01\n",
    "# extraemos todos los datos desde dicha fecha\n",
    "url = \"https://ocds.guatecompras.gt/\"\n",
    "endpoint = f\"file/json/{year}/{month}\""
   ]
  },
  {
   "cell_type": "code",
   "execution_count": null,
   "metadata": {},
   "outputs": [],
   "source": [
    "while (month <= last_month) and (year <= last_year):\n",
    "    # solicitamos la información\n",
    "    try: \n",
    "        response = requests.get(url + endpoint)\n",
    "\n",
    "        data, status = api_request_gtc(response)\n",
    "        print(status)\n",
    "\n",
    "        if data:\n",
    "            with open('../data/data_all_months/' + f'file_{year}-{month}.json', 'w', encoding='UTF-8') as js:\n",
    "                json.dump(data, js, indent=4)\n",
    "    except Exception as e:\n",
    "        print(f'Se obtuvo el siguiente error: \\n\\{e}')\n",
    "        with open('../logs/failed_connection.log', 'a') as fail:\n",
    "            fail.write(e + '\\n\\n\\n')\n",
    "        break"
   ]
  },
  {
   "cell_type": "code",
   "execution_count": null,
   "metadata": {},
   "outputs": [],
   "source": []
  }
 ],
 "metadata": {
  "kernelspec": {
   "display_name": "testenv",
   "language": "python",
   "name": "python3"
  },
  "language_info": {
   "codemirror_mode": {
    "name": "ipython",
    "version": 3
   },
   "file_extension": ".py",
   "mimetype": "text/x-python",
   "name": "python",
   "nbconvert_exporter": "python",
   "pygments_lexer": "ipython3",
   "version": "3.13.0"
  }
 },
 "nbformat": 4,
 "nbformat_minor": 2
}
