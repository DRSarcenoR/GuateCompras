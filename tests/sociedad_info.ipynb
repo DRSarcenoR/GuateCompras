{
 "cells": [
  {
   "cell_type": "code",
   "execution_count": 33,
   "metadata": {},
   "outputs": [],
   "source": [
    "# Librerias de análisis\n",
    "import pandas as pd\n",
    "\n",
    "# librerias de scrapping\n",
    "import requests\n",
    "from bs4 import BeautifulSoup\n",
    "from selenium import webdriver\n",
    "from selenium.webdriver.chrome.service import Service\n",
    "from selenium.webdriver.common.by import By\n",
    "from selenium.webdriver.support.ui import Select, WebDriverWait\n",
    "from selenium.webdriver.support import expected_conditions as EC\n",
    "import time"
   ]
  },
  {
   "cell_type": "code",
   "execution_count": 34,
   "metadata": {},
   "outputs": [],
   "source": [
    "proveedores = {\n",
    "    \"NIT\": [],\n",
    "    \"Nombre\": [],\n",
    "    \"tipo_organizacion\": [],\n",
    "    \"actividad_economica\": [],\n",
    "    \"notario\": [],\n",
    "    \"nit_notario\": [],\n",
    "    \"departamento\": [],\n",
    "    \"municipio\": [],\n",
    "    \"direccion\": [],\n",
    "    \"telefono\": [],\n",
    "    \"inscripcion_sat\": [],\n",
    "    \"estado_sat\": [],\n",
    "    \"estado_rgae\": [],\n",
    "    \"fecha_constitucion\": [],\n",
    "    \"inscripcion_provisional_registro_mercantil\": [],\n",
    "    \"inscripcion_definitiva_registro_mercantil\": []\n",
    "}\n",
    "\n",
    "representantes_legales = {\n",
    "    \"NIT_empresa\": [],\n",
    "    \"representante_legal\": [],\n",
    "    \"NIT_representante\": []\n",
    "}"
   ]
  },
  {
   "cell_type": "code",
   "execution_count": 35,
   "metadata": {},
   "outputs": [],
   "source": [
    "# ubicacion de chrome driver y la url que queremos utilizar\n",
    "PATH_TO_DRIVER = 'C:/chromedriver-win32/chromedriver-win32/chromedriver.exe'\n",
    "url = 'https://sociedad.info/guatemala/proveedor/'"
   ]
  },
  {
   "cell_type": "code",
   "execution_count": 36,
   "metadata": {},
   "outputs": [],
   "source": [
    "if False:\n",
    "    # creamos el objeto service\n",
    "    service = Service(PATH_TO_DRIVER)\n",
    "\n",
    "    # se inicializa el navegador con el servicio\n",
    "    driver = webdriver.Chrome(service=service)\n",
    "\n",
    "    # esperamos a que la ventana cargue bien\n",
    "    WebDriverWait(driver, 5)\n",
    "\n",
    "    # vamos a la página elegida\n",
    "    driver.get(url)"
   ]
  },
  {
   "cell_type": "code",
   "execution_count": 37,
   "metadata": {},
   "outputs": [],
   "source": [
    "# leemos el archivo con la información y los nit (que es lo que mas nos importa)\n",
    "df = pd.read_excel('../data/PROV_CPE_2005-2024_NOV.xlsx')"
   ]
  },
  {
   "cell_type": "code",
   "execution_count": 38,
   "metadata": {},
   "outputs": [],
   "source": [
    "nits = df.NIT.unique()"
   ]
  },
  {
   "cell_type": "code",
   "execution_count": 50,
   "metadata": {},
   "outputs": [],
   "source": [
    "response = requests.get('https://sociedad.info/guatemala/proveedor/' + '28364589', proxies={'http': None, 'https': None})\n"
   ]
  },
  {
   "cell_type": "code",
   "execution_count": 41,
   "metadata": {},
   "outputs": [],
   "source": [
    "#print(response.status_code, response.text)"
   ]
  },
  {
   "cell_type": "code",
   "execution_count": 51,
   "metadata": {},
   "outputs": [],
   "source": [
    "soup = BeautifulSoup(response.content, 'html.parser')"
   ]
  },
  {
   "cell_type": "code",
   "execution_count": 57,
   "metadata": {},
   "outputs": [],
   "source": [
    "def extraer_campo(soup, class_name : str) -> str:\n",
    "    '''para a valores comprendidos en dos etiquetas span'''\n",
    "    field_span = soup.find('span', class_=class_name)\n",
    "    if field_span:\n",
    "        value_span = field_span.find('span', class_='fieldValue')\n",
    "        return value_span.get_text(strip=True) if value_span else None\n",
    "    return None\n",
    "\n",
    "\n",
    "def extraer_representantes_legales(soup) -> list[tuple[str,str]]:\n",
    "    '''Extrae los NIT y nombres de los representantes legales'''\n",
    "    info_rl = []\n",
    "    \n",
    "    # Buscar el contenedor principal de los resultados\n",
    "    results_div = soup.find('div', class_='results')\n",
    "\n",
    "    # Recorrer todos los resultados dentro del contenedor\n",
    "    for result in results_div.find_all('a', class_='result'):\n",
    "        # Buscar el nombre y el NIT en sus respectivas etiquetas\n",
    "        name_tag = result.find('div', class_='resultName').find('span')\n",
    "        nit_tag = result.find('span', class_='field rep_nit').find_next('span', class_='fieldValue')\n",
    "\n",
    "        # Si ambos elementos son encontrados, agregar la tupla de NIT y nombre a la lista\n",
    "        if name_tag and nit_tag:\n",
    "            info_rl.append((nit_tag.get_text(strip=True), name_tag.get_text(strip=True)))\n",
    "    \n",
    "    return info_rl"
   ]
  },
  {
   "cell_type": "code",
   "execution_count": 63,
   "metadata": {},
   "outputs": [
    {
     "name": "stdout",
     "output_type": "stream",
     "text": [
      "INICIO...\n",
      "REQUEST...\n",
      "PARSEADO...\n",
      "GUARDADO...\n",
      "INFORMACION EXTRAIDA...\n",
      "FIN: 26702827...\n",
      "INICIO...\n",
      "REQUEST...\n",
      "PARSEADO...\n",
      "GUARDADO...\n",
      "INFORMACION EXTRAIDA...\n",
      "FIN: 3454428...\n",
      "INICIO...\n",
      "REQUEST...\n",
      "PARSEADO...\n",
      "GUARDADO...\n",
      "INFORMACION EXTRAIDA...\n",
      "FIN: 332917...\n",
      "INICIO...\n",
      "REQUEST...\n",
      "PARSEADO...\n",
      "GUARDADO...\n",
      "INFORMACION EXTRAIDA...\n",
      "FIN: 5664691...\n",
      "INICIO...\n",
      "REQUEST...\n",
      "PARSEADO...\n",
      "GUARDADO...\n",
      "INFORMACION EXTRAIDA...\n",
      "FIN: 8030502...\n",
      "INICIO...\n",
      "REQUEST...\n",
      "PARSEADO...\n",
      "GUARDADO...\n",
      "INFORMACION EXTRAIDA...\n",
      "FIN: 321052...\n",
      "INICIO...\n",
      "REQUEST...\n",
      "PARSEADO...\n",
      "GUARDADO...\n",
      "INFORMACION EXTRAIDA...\n",
      "FIN: 50251333...\n",
      "INICIO...\n",
      "REQUEST...\n",
      "PARSEADO...\n",
      "GUARDADO...\n",
      "INFORMACION EXTRAIDA...\n",
      "FIN: 1365797...\n",
      "INICIO...\n",
      "REQUEST...\n",
      "PARSEADO...\n",
      "GUARDADO...\n",
      "INFORMACION EXTRAIDA...\n"
     ]
    },
    {
     "ename": "AttributeError",
     "evalue": "'NoneType' object has no attribute 'find_all'",
     "output_type": "error",
     "traceback": [
      "\u001b[1;31m---------------------------------------------------------------------------\u001b[0m",
      "\u001b[1;31mAttributeError\u001b[0m                            Traceback (most recent call last)",
      "Cell \u001b[1;32mIn[63], line 42\u001b[0m\n\u001b[0;32m     38\u001b[0m     proveedores[key]\u001b[38;5;241m.\u001b[39mappend(value)\n\u001b[0;32m     41\u001b[0m \u001b[38;5;66;03m# representantes legales\u001b[39;00m\n\u001b[1;32m---> 42\u001b[0m representantes \u001b[38;5;241m=\u001b[39m \u001b[43mextraer_representantes_legales\u001b[49m\u001b[43m(\u001b[49m\u001b[43msoup\u001b[49m\u001b[43m)\u001b[49m\n\u001b[0;32m     43\u001b[0m \u001b[38;5;28;01mfor\u001b[39;00m repnit, nombre \u001b[38;5;129;01min\u001b[39;00m representantes:\n\u001b[0;32m     44\u001b[0m     representantes_legales[\u001b[38;5;124m'\u001b[39m\u001b[38;5;124mNIT_empresa\u001b[39m\u001b[38;5;124m'\u001b[39m]\u001b[38;5;241m.\u001b[39mappend(nit)\n",
      "Cell \u001b[1;32mIn[57], line 18\u001b[0m, in \u001b[0;36mextraer_representantes_legales\u001b[1;34m(soup)\u001b[0m\n\u001b[0;32m     15\u001b[0m results_div \u001b[38;5;241m=\u001b[39m soup\u001b[38;5;241m.\u001b[39mfind(\u001b[38;5;124m'\u001b[39m\u001b[38;5;124mdiv\u001b[39m\u001b[38;5;124m'\u001b[39m, class_\u001b[38;5;241m=\u001b[39m\u001b[38;5;124m'\u001b[39m\u001b[38;5;124mresults\u001b[39m\u001b[38;5;124m'\u001b[39m)\n\u001b[0;32m     17\u001b[0m \u001b[38;5;66;03m# Recorrer todos los resultados dentro del contenedor\u001b[39;00m\n\u001b[1;32m---> 18\u001b[0m \u001b[38;5;28;01mfor\u001b[39;00m result \u001b[38;5;129;01min\u001b[39;00m \u001b[43mresults_div\u001b[49m\u001b[38;5;241;43m.\u001b[39;49m\u001b[43mfind_all\u001b[49m(\u001b[38;5;124m'\u001b[39m\u001b[38;5;124ma\u001b[39m\u001b[38;5;124m'\u001b[39m, class_\u001b[38;5;241m=\u001b[39m\u001b[38;5;124m'\u001b[39m\u001b[38;5;124mresult\u001b[39m\u001b[38;5;124m'\u001b[39m):\n\u001b[0;32m     19\u001b[0m     \u001b[38;5;66;03m# Buscar el nombre y el NIT en sus respectivas etiquetas\u001b[39;00m\n\u001b[0;32m     20\u001b[0m     name_tag \u001b[38;5;241m=\u001b[39m result\u001b[38;5;241m.\u001b[39mfind(\u001b[38;5;124m'\u001b[39m\u001b[38;5;124mdiv\u001b[39m\u001b[38;5;124m'\u001b[39m, class_\u001b[38;5;241m=\u001b[39m\u001b[38;5;124m'\u001b[39m\u001b[38;5;124mresultName\u001b[39m\u001b[38;5;124m'\u001b[39m)\u001b[38;5;241m.\u001b[39mfind(\u001b[38;5;124m'\u001b[39m\u001b[38;5;124mspan\u001b[39m\u001b[38;5;124m'\u001b[39m)\n\u001b[0;32m     21\u001b[0m     nit_tag \u001b[38;5;241m=\u001b[39m result\u001b[38;5;241m.\u001b[39mfind(\u001b[38;5;124m'\u001b[39m\u001b[38;5;124mspan\u001b[39m\u001b[38;5;124m'\u001b[39m, class_\u001b[38;5;241m=\u001b[39m\u001b[38;5;124m'\u001b[39m\u001b[38;5;124mfield rep_nit\u001b[39m\u001b[38;5;124m'\u001b[39m)\u001b[38;5;241m.\u001b[39mfind_next(\u001b[38;5;124m'\u001b[39m\u001b[38;5;124mspan\u001b[39m\u001b[38;5;124m'\u001b[39m, class_\u001b[38;5;241m=\u001b[39m\u001b[38;5;124m'\u001b[39m\u001b[38;5;124mfieldValue\u001b[39m\u001b[38;5;124m'\u001b[39m)\n",
      "\u001b[1;31mAttributeError\u001b[0m: 'NoneType' object has no attribute 'find_all'"
     ]
    }
   ],
   "source": [
    "for nit in nits:\n",
    "    print('INICIO...')\n",
    "    # realizamos la solicitud\n",
    "    response = requests.get('https://sociedad.info/guatemala/proveedor/' + nit, proxies={'http': None, 'https': None}, timeout=60)\n",
    "    print('REQUEST...')\n",
    "\n",
    "    # parseamos el texto a html\n",
    "    soup = BeautifulSoup(response.content, 'html.parser')\n",
    "    print('PARSEADO...')\n",
    "\n",
    "    with open('../data/html_proveedores/' + nit + '.html', 'w') as si: \n",
    "        si.write(soup.prettify())\n",
    "    print('GUARDADO...')\n",
    "\n",
    "    # Creamos un diccionario temporal para la información del proveedor\n",
    "    proveedor = {\n",
    "        'NIT': nit,\n",
    "        'Nombre': soup.find('span', class_='itemName').text.strip(),\n",
    "        'tipo_organizacion': extraer_campo(soup, 'field tipo_organizacion'),\n",
    "        'actividad_economica': extraer_campo(soup, 'field actividad_economica field_main'),\n",
    "        'notario': extraer_campo(soup, 'field notario_nombre field_main'),\n",
    "        'nit_notario': extraer_campo(soup, 'field notario_nit field_main'),\n",
    "        'departamento': extraer_campo(soup, 'field departamento'),\n",
    "        'municipio': extraer_campo(soup, 'field municipio'),\n",
    "        'direccion': extraer_campo(soup, 'field direccion field_main'),\n",
    "        'telefono': extraer_campo(soup, 'field telefono field_main'),\n",
    "        'inscripcion_sat': extraer_campo(soup, 'field fecha_sat field_main'),\n",
    "        'estado_sat': extraer_campo(soup, 'field estatus_nit'),\n",
    "        'estado_rgae': extraer_campo(soup, 'field estado_proveedor_rgae field_main'),\n",
    "        'fecha_constitucion': extraer_campo(soup, 'field fecha_constitucion field_main'),\n",
    "        'inscripcion_provisional_registro_mercantil': extraer_campo(soup, 'field fecha_provisional_registro_mercantil field_main'),\n",
    "        'inscripcion_definitiva_registro_mercantil': extraer_campo(soup, 'field fecha_definitiva_registro_mercantil field_main')\n",
    "    }\n",
    "    print('INFORMACION EXTRAIDA...')\n",
    "\n",
    "    # Agregamos los datos del proveedor al diccionario principal\n",
    "    for key, value in proveedor.items():\n",
    "        proveedores[key].append(value)\n",
    "\n",
    "\n",
    "    # representantes legales\n",
    "    representantes = extraer_representantes_legales(soup)\n",
    "    for repnit, nombre in representantes:\n",
    "        representantes_legales['NIT_empresa'].append(nit)\n",
    "        representantes_legales['representante_legal'].append(nombre)\n",
    "        representantes_legales['NIT_representante'].append(repnit)\n",
    "\n",
    "    print(f'FIN: {nit}...')\n",
    "        \n",
    "proveedores_df = pd.DataFrame(proveedores)\n",
    "representantes_df = pd.DataFrame(representantes_legales)\n",
    "\n",
    "proveedores.to_excel('../data/PROVEEDORES.xlsx', index=False)\n",
    "representantes_df.to_excel('../data/REPRESENTANTES_LEGALES.xlsx', index=False)\n",
    "\n",
    "\n",
    "proveedores.to_csv('../data/PROVEEDORES.csv', sep=',', index=False)\n",
    "representantes_df.to_csv('../data/REPRESENTANTES_LEGALES.csv', sep=',', index=False)"
   ]
  },
  {
   "cell_type": "code",
   "execution_count": 53,
   "metadata": {},
   "outputs": [],
   "source": [
    "# Nombre empresa o proveedor\n",
    "name = soup.find('span', class_='itemName').text.strip()\n",
    "\n",
    "# extraer NIT\n",
    "nit = soup.find('span', class_='field nit_propio').find_next('span', class_='fieldValue').text.strip()\n",
    "\n",
    "# extraemos tipo de organización\n",
    "tipo_organizacion = soup.find('span', class_='field tipo_organizacion').find_next('span', class_='fieldValue').text.strip()\n",
    "\n",
    "# actividad economica\n",
    "actividad = soup.find('span', class_='field actividad_economica field_main').find_next('span', class_='fieldValue').text.strip()\n",
    "\n",
    "# Nombre del notario\n",
    "notario = soup.find('span', class_='field notario_nombre field_main').find_next('span', class_='fieldValue').text.strip()\n",
    "\n",
    "# nit del notario\n",
    "nit_notario = soup.find('span', class_='field notario_nit field_main').find_next('span', class_='fieldValue').text.strip()\n",
    "\n",
    "# departamento\n",
    "departamento = soup.find('span', class_='field departamento').find_next('span', class_='fieldValue').text.strip()\n",
    "\n",
    "# municipio\n",
    "municipio = soup.find('span', class_='field municipio').find_next('span', class_='fieldValue').text.strip()\n",
    "\n",
    "# direccion\n",
    "direccion = soup.find('span', class_='field direccion field_main').find_next('span', class_='fieldValue').text.strip()\n",
    "\n",
    "# telefono\n",
    "telefono = soup.find('span', class_='field telefono field_main').find_next('span', class_='fieldValue').text.strip()\n",
    "\n",
    "insc_sat = extraer_campo(soup, 'field fecha_sat field_main')\n",
    "status_sat = extraer_campo(soup, 'field estatus_nit')\n",
    "rgae_status_proveedor1 = extraer_campo(soup, 'field estado_proveedor_rgae field_main')\n",
    "fecha_constitucion = extraer_campo(soup, 'field fecha_constitucion field_main')\n",
    "insc_prov_reg_merc = extraer_campo(soup, 'field fecha_provisional_registro_mercantil field_main')\n",
    "insc_defin_reg_merc = extraer_campo(soup, 'field fecha_definitiva_registro_mercantil field_main')"
   ]
  },
  {
   "cell_type": "code",
   "execution_count": 55,
   "metadata": {},
   "outputs": [],
   "source": [
    "# informacion representantes legales\n",
    "info_rl = []\n",
    "\n",
    "results_div = soup.find('div', class_='results')\n",
    "\n",
    "\n",
    "for result in results_div.find_all('a', class_='result'):\n",
    "    name_tag = result.find('div', class_='resultName').find('span')\n",
    "    nit_tag = result.find('span', class_='field rep_nit').find_next('span', class_='fieldValue')\n",
    "\n",
    "    if name_tag and nit_tag:\n",
    "        info_rl.append((nit_tag.get_text(strip=True), name_tag.get_text(strip=True)))"
   ]
  },
  {
   "cell_type": "code",
   "execution_count": 56,
   "metadata": {},
   "outputs": [
    {
     "data": {
      "text/plain": [
       "[('5554357', 'NAVAS ARRIAGA AIDA ELIZABETH'),\n",
       " ('1733613', 'VELEZ ZIMERI VICTOR HUGO')]"
      ]
     },
     "execution_count": 56,
     "metadata": {},
     "output_type": "execute_result"
    }
   ],
   "source": [
    "info_rl"
   ]
  },
  {
   "cell_type": "code",
   "execution_count": 58,
   "metadata": {},
   "outputs": [
    {
     "name": "stdout",
     "output_type": "stream",
     "text": [
      "5554357 NAVAS ARRIAGA AIDA ELIZABETH\n",
      "1733613 VELEZ ZIMERI VICTOR HUGO\n"
     ]
    }
   ],
   "source": [
    "for nit, nombre in info_rl:\n",
    "    print(nit, nombre)"
   ]
  },
  {
   "cell_type": "code",
   "execution_count": 59,
   "metadata": {},
   "outputs": [],
   "source": [
    "link_tag = soup.find('a', class_='secondaryButtonLarge')"
   ]
  },
  {
   "cell_type": "code",
   "execution_count": null,
   "metadata": {},
   "outputs": [],
   "source": []
  }
 ],
 "metadata": {
  "kernelspec": {
   "display_name": "guatecompras",
   "language": "python",
   "name": "python3"
  },
  "language_info": {
   "codemirror_mode": {
    "name": "ipython",
    "version": 3
   },
   "file_extension": ".py",
   "mimetype": "text/x-python",
   "name": "python",
   "nbconvert_exporter": "python",
   "pygments_lexer": "ipython3",
   "version": "3.9.20"
  }
 },
 "nbformat": 4,
 "nbformat_minor": 2
}
