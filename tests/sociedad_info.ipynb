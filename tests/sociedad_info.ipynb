{
 "cells": [
  {
   "cell_type": "code",
   "execution_count": 5,
   "metadata": {},
   "outputs": [],
   "source": [
    "import requests\n",
    "from bs4 import BeautifulSoup"
   ]
  },
  {
   "cell_type": "code",
   "execution_count": 2,
   "metadata": {},
   "outputs": [],
   "source": [
    "response = requests.get('https://sociedad.info/guatemala/proveedor/28364589')"
   ]
  },
  {
   "cell_type": "code",
   "execution_count": 3,
   "metadata": {},
   "outputs": [
    {
     "data": {
      "text/plain": [
       "200"
      ]
     },
     "execution_count": 3,
     "metadata": {},
     "output_type": "execute_result"
    }
   ],
   "source": [
    "response.status_code"
   ]
  },
  {
   "cell_type": "code",
   "execution_count": 4,
   "metadata": {},
   "outputs": [
    {
     "data": {
      "text/plain": [
       "'<!DOCTYPE html><html lang=es><head><meta charset=UTF-8><meta name=viewport content=\"width=device-width,initial-scale=1\"><link rel=\"shortcut icon\" href=/static/img/favicon-96.png type=image/x-icon>\\n<link rel=apple-touch-icon sizes=57x57 href=/static/img/favicon-96.png> <link rel=apple-touch-icon sizes=60x60 href=/static/img/favicon-96.png> <link rel=apple-touch-icon sizes=72x72 \\nhref=/static/img/favicon-96.png> <link rel=apple-touch-icon sizes=76x76 href=/static/img/favicon-96.png> <link rel=apple-touch-icon sizes=114x114 href=/static/img/favicon-96.png> <link \\nrel=apple-touch-icon sizes=120x120 href=/static/img/favicon-96.png> <link rel=apple-touch-icon sizes=144x144 href=/static/img/favicon-96.png> <link rel=apple-touch-icon sizes=152x152 \\nhref=/static/img/favicon-96.png> <link rel=apple-touch-icon sizes=180x180 href=/static/img/favicon-96.png> <link rel=icon type=image/png sizes=192x192 href=/static/img/favicon-96.png> <link rel=icon \\ntype=image/png sizes=32x32 href=/static/img/favicon-96.png> <link rel=icon type=image/png sizes=96x96 href=/static/img/favicon-96x96.png> <link rel=icon type=image/png sizes=16x16 \\nhref=/static/img/favicon-96.png> <link rel=manifest href=/manifest.json><link rel=canonical href=https://sociedad.info/guatemala/proveedor/28364589> <meta property=og:url \\ncontent=https://sociedad.info/guatemala/proveedor/28364589><meta name=msapplication-TileColor content=#ffffff> <meta name=msapplication-TileImage content=/static/img/favicon-96.png> <meta \\nname=theme-color content=#ffffff> <meta property=og:title content=\"REALIDADES  SOCIEDAD ANONIMA - Proveedor - Sociedad.info\"> <meta property=og:site_name content=Sociedad.info> <meta \\nproperty=twitter:title content=\"REALIDADES  SOCIEDAD ANONIMA - Proveedor - Sociedad.info\"> <meta name=twitter:card content=summary> <meta property=og:locale content=es><title>\\nREALIDADES SOCIEDAD ANONIMA - Proveedor - Sociedad.info</title><script async defer src=https://krill.abrimos.info/fishhook.js data-website-id=cm2yavjx9000hwuup83p3cgth></script><script async \\nsrc=\"https://www.googletagmanager.com/gtag/js?id=G-JLHBMH5Y3C\"></script><script>\\nfunction gtag(){dataLayer.push(arguments)}window.dataLayer=window.dataLayer||[],gtag(\"js\",new Date),gtag(\"config\",\"G-JLHBMH5Y3C\"),function(t,e,a,n){t[n]=t[n]||[],t[n].push({\"gtm.start\":(new Date).getTime(),event:\"gtm.js\"});var g=e.getElementsByTagName(a)[0],r=e.createElement(a);r.async=!0,r.src=\"https://www.googletagmanager.com/gtm.js?id=GTM-WLL6VMR5\",g.parentNode.insertBefore(r,g)}(window,document,\"script\",\"dataLayer\")\\n</script><script async src=\"https://pagead2.googlesyndication.com/pagead/js/adsbygoogle.js?client=ca-pub-2284598331707824\" crossorigin=anonymous></script></head><body><link rel=stylesheet \\nhref=/static/css/main.css><!-- Google Tag Manager (noscript) --> <noscript><iframe src=\"https://www.googletagmanager.com/ns.html?id=GTM-WLL6VMR5\" height=0 width=0 style=display:none;visibility:hidden>\\n</iframe></noscript> <!-- End Google Tag Manager (noscript) --><div class=header><a href=/ ><img class=logo src=/static/img/sociedadinfo-logo.png alt=Sociedad.info></a><div class=menu id=mainMenu><a \\nclass=headerButton href=/ >Inicio</a><a class=headerButton href=/buscador>Búsqueda</a><a class=headerButton href=/acerca-de>Acerca de</a><a class=headerButton href=/contacto>Contacto</a></div><div \\nclass=menu id=mainMenuHandle><a class=headerButton title=Menú><i class=\"fi fi-rr-menu-burger\"></i></a></div></div><script>\\nfunction checkWidth(){window.innerWidth<1080?(document.getElementById(\"mainMenu\").style.display=\"none\",document.getElementById(\"mainMenuHandle\").style.display=\"block\"):(document.getElementById(\"mainMenu\").style.display=\"block\",document.getElementById(\"mainMenuHandle\").style.display=\"none\")}function showMenu(){document.getElementById(\"mainMenu\").style.display=\"block\",document.getElementById(\"mainMenuHandle\").style.display=\"none\"}function hideMenu(){document.getElementById(\"mainMenu\").style.display=\"none\",document.getElementById(\"mainMenuHandle\").style.display=\"block\"}function toggleMenu(){document.getElementById(\"mainMenu\").style.display=\"none\"==document.getElementById(\"mainMenu\").style.display?\"block\":\"none\",document.getElementById(\"mainMenuHandle\").classList.toggle(\"open\")}function track(e,n,t,d,l){window.dataLayer.push({event:e,formLocation:n,block:t,alernative:d,action:l})}window.addEventListener(\"resize\",checkWidth),checkWidth(),document.getElementById(\"mainMenuHandle\").addEventListener(\"click\",toggleMenu),track(\"testevent\",\"testlocation\",\"testblock\",\"testalternative\",\"testaction\")\\n</script><div class=wrapper><div class=actionBar style=position:relative><h2>Acciones</h2><ul><li> <a class=secondaryButtonLarge \\nhref=\"whatsapp://send?text=Por%20favor%20revisa%20esta%20p%C3%A1gina%20en%20sociedad.info%20https%3A%2F%2Fsociedad.info%2FREALIDADES%2C%20SOCIEDAD%20ANONIMA%2Fundefined\"> <i \\nclass=\"fi fi-brands-whatsapp\"></i><span>Compartir</span></a></li><li> <a class=secondaryButtonLarge \\nhref=\"https://t.me/share/url?url=Por%20favor%20revisa%20esta%20p%C3%A1gina%20en%20sociedad.info%20https%3A%2F%2Fsociedad.info%2FREALIDADES%2C%20SOCIEDAD%20ANONIMA%2Fundefined\"><i \\nclass=\"fi fi-brands-telegram\"></i><span>Compartir</span></a></li><li> <a class=secondaryButtonLarge \\nonclick=\\'document.getElementById(\"reportMenu\").style.display=\"none\"==document.getElementById(\"reportMenu\").style.display?\"block\":\"none\"\\'><i class=\"fi fi-rr-comment\"></i><span>Reportar</span></a></li>\\n<div id=reportMenu style=display:none><h3>¿Qué deseas reportar?</h3><button type=button class=primaryButtonLarge data-toggle=modal data-target=#reportAsk \\nonclick=\\'document.getElementById(\"reportAsk\").style.display=\"none\"==document.getElementById(\"reportAsk\").style.display?\"block\":\"none\"\\'>Contactar a la empresa o persona</button> <button type=button \\nclass=primaryButtonLarge data-toggle=modal data-target=#reportInfo \\nonclick=\\'document.getElementById(\"reportInfo\").style.display=\"none\"==document.getElementById(\"reportInfo\").style.display?\"block\":\"none\"\\'>Información incorrecta</button> <button type=button \\nclass=primaryButtonLarge data-toggle=modal data-target=#reportCrime \\nonclick=\\'document.getElementById(\"reportCrime\").style.display=\"none\"==document.getElementById(\"reportCrime\").style.display?\"block\":\"none\"\\'>Estafa o extorsión</button> <button type=button \\nclass=primaryButtonLarge data-toggle=modal data-target=#reportUse \\nonclick=\\'document.getElementById(\"reportUse\").style.display=\"none\"==document.getElementById(\"reportUse\").style.display?\"block\":\"none\"\\'>Usar información de sociedad.info</button></div></ul></div><div \\nid=reportModals><!-- Modal --> <div class=\"modal fade\" id=reportUse tabindex=-1 role=dialog aria-labelledby=reportUseLabel aria-hidden=true style=display:none> <div class=modal-dialog role=document> \\n<div class=modal-content> <div class=modal-header> <h5 class=modal-title id=reportUseLabel>Usar información de Sociedad.info</h5> <button type=button class=\"close iconButton\" data-dismiss=modal \\naria-label=Close onclick=\\'document.getElementById(\"reportUse\").style.display=\"none\"\\'> <span aria-hidden=true>&times;</span> </button> </div> <div class=modal-body> <p>\\nLa información de Sociedad.info proviene de fuentes públicas, nos puedes citar como fuente también en tus publicaciones.</p> <p>Por favor contáctanos y cuéntanos sobre tu proyecto.</p> </div> <div \\nclass=modal-footer> <button type=button class=\"primaryButtonLarge btn btn-secondary\" data-dismiss=modal onclick=\\'document.getElementById(\"reportUse\").style.display=\"none\"\\'>Cerrar</button> <a \\ntype=button class=\"btn btn-primary\" href=\"/acerca-de?subject=Usar info de Sociedad.info\">Contáctanos</a> </div> </div> </div> </div> <!-- Modal --> <div class=\"modal fade\" id=reportInfo tabindex=-1 \\nrole=dialog aria-labelledby=reportInfoLabel aria-hidden=true style=display:none> <div class=modal-dialog role=document> <div class=modal-content> <div class=modal-header> <h5 class=modal-title \\nid=reportInfoLabel>Correcciones a la información</h5> <button type=button class=\"close iconButton\" data-dismiss=modal aria-label=Close \\nonclick=\\'document.getElementById(\"reportInfo\").style.display=\"none\"\\'> <span aria-hidden=true>&times;</span> </button> </div> <div class=modal-body> <p><la>\\ninformación recopilada en Socieadad.info proviene de fuentes públicas y oficiales, como Guatecompras, si encuentras que no es precisa o tiene errores, se trata de errores de las fuentes de origen.\\n</la></p> <p>\\nSi la información presentada en esta página no es correcta, por favor contáctanos reportando la información errónea y dónde podemos conseguir la información correcta. Nos ofrecemos a acompañarte en el reclamo a las entidades correspondientes.\\n</p> </div> <div class=modal-footer> <button type=button class=primaryButtonLarge data-dismiss=modal onclick=\\'document.getElementById(\"reportInfo\").style.display=\"none\"\\'>Cerrar</button> <a \\ntype=button class=\"btn btn-primary\" href=\"/acerca-de?subject=Solicito apoyo por errores en Sociedad.info\">Solicitar acompañamiento</a> </div> </div> </div> </div> <!-- Modal --> <div \\nclass=\"modal fade\" id=reportCrime tabindex=-1 role=dialog aria-labelledby=reportCrimeLabel aria-hidden=true style=display:none> <div class=modal-dialog role=document> <div class=modal-content> <div \\nclass=modal-header> <h5 class=modal-title id=reportCrimeLabel>Soy víctima de una estafa o extorsión</h5> <button type=button class=\"close iconButton\" data-dismiss=modal aria-label=Close \\nonclick=\\'document.getElementById(\"reportCrime\").style.display=\"none\"\\'> <span aria-hidden=true>&times;</span> </button> </div> <div class=modal-body> <p>\\nLamentablemente es una práctica muy común que las empresas y personas no cumplan con sus compromisos al proveer bienes o servicios, en caso de incumplimiento puedes dirigirte a las autoridades locales y presentar una queja o denuncia según corresponda, en caso de ser víctima de fraude cibernético te invitamos a leer este instructivo de la \\n<a href=\"https://www.gob.mx/profeco/articulos/campana-nacional-antifraude-cibernetico-260577?idiom=esRecomendaciones\">Campaña Nacional Antifraude Cibernético</a>.</p> <p>\\nSi eres víctima de extorsión, toma fotos de pantalla de los mensajes recibidos y dirígete al ministerio público para solicitar protección, o bien, llama al número ministerio público para recibir orientación para presentar la denuncia correspondiente. Si los extorsionadores han mencionado explícitamente a Sociedad.info en sus mensajes, por favor envíanos una copia de los mensajes.\\n</p> </div> <div class=modal-footer> <button type=button class=primaryButtonLarge data-dismiss=modal onclick=\\'document.getElementById(\"reportCrime\").style.display=\"none\"\\'>Cerrar</button> <a \\ntype=button class=\"btn btn-primary\" href=\"/acerca-de?subject=Extorsión basada en Sociedad.info\">Reportar extorsión</a> </div> </div> </div> </div> <!-- Modal --> <div class=\"modal fade\" id=reportAsk \\ntabindex=-1 role=dialog aria-labelledby=reportAskLabel aria-hidden=true style=display:none> <div class=modal-dialog role=document> <div class=modal-content> <div class=modal-header> <h5 \\nclass=modal-title id=reportAskLabel>No es posible contactar</h5> <button type=button class=\"close iconButton\" data-dismiss=modal aria-label=Close \\nonclick=\\'document.getElementById(\"reportAsk\").style.display=\"none\"\\'> <span aria-hidden=true>&times;</span> </button> </div> <div class=modal-body> <p>\\nSi deseas solicitar cotizaciones, ofrecer tus servicios, reclamar a empresas o contactar a personas, te recomendamos buscar el sitio web oficial o utilizar otro medio de contacto. Sociedad.info no es un sitio de anuncios ni tiene contacto con las empresas y personas mencionadas en el sitio.\\n</p> </div> <div class=modal-footer> <button type=button class=primaryButtonLarge data-dismiss=modal onclick=\\'document.getElementById(\"reportAsk\").style.display=\"none\"\\'>Cerrar</button> </div> </div> \\n</div> </div></div><div class=itemContents><div class=\"fieldsetgroup titulo\"><h1><span class=resultIcon><i class=\"fi fi-rr-building\" title=supplier></i></span><span class=itemName>\\nREALIDADES SOCIEDAD ANONIMA</span></h1></div><div class=supplier><span class=\"field tipo_organizacion\" schema><span class=fieldTitle>Tipo de organización</span><span class=fieldValue>SOCIEDAD ANÓNIMA\\n</span></span><span class=\"field nit_propio\" schema><span class=fieldTitle>NIT</span><span class=fieldValue>28364589</span></span><div class=itemDescription><p>\\nEl proveedor llamado REALIDADES SOCIEDAD ANONIMA es un SOCIEDAD ANÓNIMA que realiza actividades económicas ACTIVIDADES INMOBILIARIAS REALIZADAS CON BIENES PROPIOS O ARRENDADOS. Se reportan <strong>\\n 2 representantes legales</strong>\\n autorizados a hacer gestiones de esta figura. La constitución legal de esta figura ocurrió en GUATEMALA el 08/11/2001 (o antes, dependiendo de la información declarada).</p><p>\\nLas empresas suelen operar bajo una diversidad de marcas, también llamadas nombres comerciales. Este proveedor tiene <strong>1 nombres comerciales</strong> diferentes.</p><p class=itemNota>\\nNota: Esta página incluye información obtenida de datos abiertos de Guatecompras y del RGAE. Esta información se provee con objetivos de transparencia para facilitar el acceso a información fundamental para la democracia.\\n</p></div><div style=max-height:500px;overflow:auto><h3>Nombres comerciales: ¿Cuáles son los nombres comerciales de REALIDADES SOCIEDAD ANONIMA?</h3><p>\\nLas empresas pueden operar bajo diferentes marcas o nombres comerciales, esto permite diferenciar líneas de producto o segmentar audiencias. Estas se registran para demostrar fácilmente quién puede utilizar la marca y así evitar que la competencia pueda causar confusión en los consumidores.\\n</p><span class=\"field nombres_comerciales\" schema><span class=fieldValue>REALIDADES</span></span></div><span class=\"field actividad_economica field_main\" schema><span class=fieldTitle>\\nActividad Económica</span><span class=fieldValue>ACTIVIDADES INMOBILIARIAS REALIZADAS CON BIENES PROPIOS O ARRENDADOS</span></span><span class=\"field notario_nombre field_main\" schema><span \\nclass=fieldTitle>Nombre del Notario</span><span class=fieldValue>RIVERA CRUZ ROSA MARINA</span></span><span class=\"field notario_nit field_main\" schema><span class=fieldTitle>NIT del Notario</span>\\n<span class=fieldValue>1160540</span></span><span class=\"field departamento\" schema><span class=fieldTitle>Departamento</span><span class=fieldValue>GUATEMALA</span></span><span \\nclass=\"field direccion field_main\" schema><span class=fieldTitle>Dirección</span><span class=fieldValue>AVENIDA BOLIVAR 21-56 Z.1</span></span><span class=\"field municipio\" schema><span \\nclass=fieldTitle>Municipio</span><span class=fieldValue>GUATEMALA</span></span><span class=\"field telefono field_main\" schema><span class=fieldTitle>Teléfonos</span><span class=fieldValue>23282328\\n</span></span><span class=\"field fax field_main\" schema><span class=fieldTitle>Números de fax</span><span class=fieldValue>23282328</span></span></div><div class=fieldsetgroup><h2>\\nRepresentantes Legales: ¿Cuáles son los representantes legales de REALIDADES SOCIEDAD ANONIMA?</h2><p>Los representantes legales son las personas responsables por las actividades de la empresa.</p>\\n<div class=results><a class=result href=/guatemala/proveedor/5554357><div class=resultItem> <div class=resultIcon><i class=\"fi fi-rr-building\" title=supplier></i></div><div class=resultName><span>\\nNAVAS ARRIAGA AIDA ELIZABETH</span></div><span class=\"field rep_nit\" schema><span class=fieldTitle>NIT</span><span class=fieldValue>5554357</span></span></div></a><a class=result \\nhref=/guatemala/proveedor/1733613><div class=resultItem> <div class=resultIcon><i class=\"fi fi-rr-building\" title=supplier></i></div><div class=resultName><span>VELEZ ZIMERI VICTOR HUGO</span></div>\\n<span class=\"field rep_nit\" schema><span class=fieldTitle>NIT</span><span class=fieldValue>1733613</span></span><span class=\"field repp_lazo_nombramiento\" schema><span class=fieldTitle>\\nPlazo de nombramiento</span><span class=fieldValue>26/08/2012</span></span></div></a></div></div><div><h2>Información adicional sobre REALIDADES SOCIEDAD ANONIMA</h2><span \\nclass=\"field fecha_sat field_main\" schema><span class=fieldTitle>Inscripto en el SAT</span><span class=fieldValue>16/02/2020</span></span><span class=\"field estatus_nit\" schema><span class=fieldTitle>\\nEstatus del NIT en SAT</span><span class=fieldValue>Solvente</span></span><span class=\"field estado_proveedor_rgae field_main\" schema><span class=fieldTitle>Estado del proveedor (Obtenido desde RGAE)\\n</span><span class=fieldValue>NO INSCRITO</span></span><span class=\"field fecha_constitucion field_main\" schema><span class=fieldTitle>Fecha de constitución</span><span class=fieldValue>08/11/2001\\n</span></span><span class=\"field fecha_provisional_registro_mercantil field_main\" schema><span class=fieldTitle>Inscripción PROVISIONAL en el Registro Mercantil</span><span class=fieldValue>27/11/2001\\n</span></span><span class=\"field fecha_definitiva_registro_mercantil field_main\" schema><span class=fieldTitle>Inscripción DEFINITIVA en el Registro Mercantil</span><span class=fieldValue>18/12/2001\\n</span></span><span class=\"field num_escritura_constitucion\" schema><span class=fieldTitle>Número de escritura de constitución</span><span class=fieldValue>38</span></span></div><h2>Enlaces</h2><p><a \\nclass=primaryButtonLarge href=\"/buscador?type=contract&amp;keyword=28364589&amp;supplier_name=REALIDADES  SOCIEDAD ANONIMA\">Buscar todos los contratos de este proveedor</a></p><p><a \\nclass=secondaryButtonLarge href=\"https://www.guatecompras.gt/proveedores/consultaDetProvee.aspx?rqp=9&amp;lprv=1885043\">Ver perfil en Guatecompras</a></p></div></div><script async \\nid=AV67055982a754b521ab09e8a6 type=text/javascript src=\"https://tg1.positive-ads.com/api/adserver/spt?AV_TAGID=67055982a754b521ab09e8a6&AV_PUBLISHERID=67054a9a9b9d81c18c0ff837\"></script><div \\nclass=footer><div><div class=footerlogo><img class=logo src=/static/img/sociedadinfo-gris.png alt=\"Logo de sociedad.info\"></div><div class=footertext><p>\\nEs una infraestructura digital con información fundamental para las democracias de América Latina promovida por:</p></div><div class=footerlogo><a href=https://abrimos.info/ style=padding-right:30px>\\n<img src=/static/img/logo-abrimos-blanco.svg alt=\"Imágen del logo Abrimos.Info\" height=60 width=96></a></div></div><div class=footermenu><div class=footermenu1><h4>Menú</h4><ul> <li> <a href=/ >Inicio\\n</a></li><li> <a href=/buscador>Buscador</a></li><li> <a href=/acerca-de>Acerca de</a></li><li> <a href=/privacidad>Política de privacidad</a></li></ul></div><div class=footermenu2><h4>\\nPaíses involucrados</h4><ul> <li> <a href=https://gt.sociedad.info/ >Guatemala</a></li><li> <a href=https://ojosanciones.sociedad.info/ >México</a></li></ul></div></div><div class=footersocial><p>\\nEsta información es obtenida de fuentes públicas y reproducida sin alteraciones</p><div><span>Sociedad.info:</span><a class=iconButton href=https://twitter.com/sociedadinfo_ target=_blank><i \\nclass=\"fi fi-brands-twitter\"></i></a><span id=abrimosFooter>Abrimos.info:</span><a class=iconButton href=https://twitter.com/abrimosinfo target=_blank><i class=\"fi fi-brands-twitter\"></i></a><a \\nclass=iconButton href=https://linkedin.com/company/abrimosinfo target=_blank><i class=\"fi fi-brands-linkedin\"></i></a></div></div><p>UIcons by <a href=https://www.flaticon.com/uicons>Flaticon</a></p>\\n</div></body></html>'"
      ]
     },
     "execution_count": 4,
     "metadata": {},
     "output_type": "execute_result"
    }
   ],
   "source": [
    "response.text"
   ]
  },
  {
   "cell_type": "code",
   "execution_count": 8,
   "metadata": {},
   "outputs": [],
   "source": [
    "soup = BeautifulSoup(response.content, 'html.parser')"
   ]
  },
  {
   "cell_type": "code",
   "execution_count": 11,
   "metadata": {},
   "outputs": [],
   "source": [
    "with open('../data/sociedadinfo.html', 'w') as si: \n",
    "    si.write(soup.prettify())"
   ]
  },
  {
   "cell_type": "code",
   "execution_count": null,
   "metadata": {},
   "outputs": [],
   "source": []
  }
 ],
 "metadata": {
  "kernelspec": {
   "display_name": "guatecompras",
   "language": "python",
   "name": "python3"
  },
  "language_info": {
   "codemirror_mode": {
    "name": "ipython",
    "version": 3
   },
   "file_extension": ".py",
   "mimetype": "text/x-python",
   "name": "python",
   "nbconvert_exporter": "python",
   "pygments_lexer": "ipython3",
   "version": "3.9.20"
  }
 },
 "nbformat": 4,
 "nbformat_minor": 2
}
