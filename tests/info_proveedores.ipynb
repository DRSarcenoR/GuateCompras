{
 "cells": [
  {
   "cell_type": "code",
   "execution_count": 1,
   "metadata": {},
   "outputs": [],
   "source": [
    "import pandas as pd\n",
    "import time\n",
    "import random\n",
    "\n",
    "# scrapping\n",
    "from selenium import webdriver\n",
    "from selenium.webdriver.chrome.service import Service\n",
    "from selenium.webdriver.common.by import By\n",
    "from selenium.webdriver.support.ui import Select\n",
    "from selenium.webdriver.support.ui import WebDriverWait\n",
    "from selenium.webdriver.support import expected_conditions as EC\n",
    "from bs4 import BeautifulSoup\n",
    "import requests"
   ]
  },
  {
   "cell_type": "code",
   "execution_count": 2,
   "metadata": {},
   "outputs": [],
   "source": [
    "# ubicacion de chrome driver y la url que queremos utilizar\n",
    "PATH_TO_DRIVER = 'C:/chromedriver-win32/chromedriver-win32/chromedriver.exe'\n",
    "url_busqueda = 'https://www.guatecompras.gt/proveedores/busquedaProvee.aspx'\n",
    "url_info_proveedores = 'https://www.guatecompras.gt/proveedores/consultaDetProvee.aspx?rqp=10&lprv=520'"
   ]
  },
  {
   "cell_type": "code",
   "execution_count": 3,
   "metadata": {},
   "outputs": [],
   "source": [
    "# creamos el objeto service\n",
    "service = Service(PATH_TO_DRIVER)\n",
    "\n",
    "# se inicializa el navegador con el servicio\n",
    "driver = webdriver.Chrome(service=service)\n",
    "\n",
    "# esperamos a que la ventana cargue bien \n",
    "#WebDriverWait(driver, 5)\n",
    "time.sleep(random.randint(4,9))\n",
    "\n",
    "# vamos a la página\n",
    "driver.get(url_busqueda)"
   ]
  },
  {
   "cell_type": "code",
   "execution_count": 4,
   "metadata": {},
   "outputs": [
    {
     "name": "stdout",
     "output_type": "stream",
     "text": [
      "ingreso de nit...\n",
      "Error: Message: no such window: target window already closed\n",
      "from unknown error: web view not found\n",
      "  (Session info: chrome=131.0.6778.87)\n",
      "Stacktrace:\n",
      "\tGetHandleVerifier [0x005833E3+25059]\n",
      "\t(No symbol) [0x0050CDE4]\n",
      "\t(No symbol) [0x003EBEC3]\n",
      "\t(No symbol) [0x003CD93B]\n",
      "\t(No symbol) [0x0045800F]\n",
      "\t(No symbol) [0x0046AE49]\n",
      "\t(No symbol) [0x00451C96]\n",
      "\t(No symbol) [0x00423FAC]\n",
      "\t(No symbol) [0x00424F3D]\n",
      "\tGetHandleVerifier [0x00875543+3113795]\n",
      "\tGetHandleVerifier [0x0088A20A+3198986]\n",
      "\tGetHandleVerifier [0x008829E2+3168226]\n",
      "\tGetHandleVerifier [0x00623250+680016]\n",
      "\t(No symbol) [0x0051572D]\n",
      "\t(No symbol) [0x005129D8]\n",
      "\t(No symbol) [0x00512B75]\n",
      "\t(No symbol) [0x005057D0]\n",
      "\tBaseThreadInitThunk [0x76A17BA9+25]\n",
      "\tRtlInitializeExceptionChain [0x778CC0CB+107]\n",
      "\tRtlClearBits [0x778CC04F+191]\n",
      "\n",
      "salimos del driver\n"
     ]
    }
   ],
   "source": [
    "try:\n",
    "    # esperamos a que cargue la página\n",
    "    #WebDriverWait(driver, 5)\n",
    "    \n",
    "\n",
    "    # ingreso de nit\n",
    "    nit_dropdown = driver.find_element(By.ID, 'MasterGC_ContentBlockHolder_txtNit')\n",
    "    #nit = Select(nit_dropdown)\n",
    "    nit_dropdown.send_keys('5124611')\n",
    "    print('ingreso de nit...')\n",
    "    WebDriverWait(driver, 10).until(\n",
    "            EC.presence_of_element_located((By.ID, 'MasterGC_ContentBlockHolder_cmdNit'))  # Esperar que el siguiente elemento esté presente\n",
    "        )\n",
    "\n",
    "    time.sleep(random.randint(3,6))\n",
    "\n",
    "    # boton buscar\n",
    "    boton_buscar = driver.find_element(By.ID, 'MasterGC_ContentBlockHolder_cmdNit')\n",
    "    boton_buscar.click()\n",
    "\n",
    "\n",
    "    # esperamos\n",
    "    time.sleep(10)\n",
    "\n",
    "    # tomamos la informacion html\n",
    "    html = driver.page_source\n",
    "except Exception as e:\n",
    "    print(f'Error: {e}')\n",
    "finally:\n",
    "    driver.quit()\n",
    "    print('salimos del driver')"
   ]
  },
  {
   "cell_type": "code",
   "execution_count": 52,
   "metadata": {},
   "outputs": [],
   "source": [
    "if False:\n",
    "    # creamos el objeto service\n",
    "    service = Service(PATH_TO_DRIVER)\n",
    "\n",
    "    # se inicializa el navegador con el servicio\n",
    "    driver = webdriver.Chrome(service=service)\n",
    "\n",
    "    # esperamos a que la ventana cargue bien \n",
    "    WebDriverWait(driver, 5)\n",
    "\n",
    "    # vamos a la página\n",
    "    driver.get(url_info_proveedores)\n",
    "\n",
    "    # forzamos la espera de la página que nos interesa\n",
    "    time.sleep(10)\n",
    "\n",
    "    # obtenemos el html\n",
    "    html = driver.page_source\n",
    "    driver.quit()"
   ]
  },
  {
   "cell_type": "code",
   "execution_count": null,
   "metadata": {},
   "outputs": [],
   "source": []
  }
 ],
 "metadata": {
  "kernelspec": {
   "display_name": "guatecompras",
   "language": "python",
   "name": "python3"
  },
  "language_info": {
   "codemirror_mode": {
    "name": "ipython",
    "version": 3
   },
   "file_extension": ".py",
   "mimetype": "text/x-python",
   "name": "python",
   "nbconvert_exporter": "python",
   "pygments_lexer": "ipython3",
   "version": "3.9.20"
  }
 },
 "nbformat": 4,
 "nbformat_minor": 2
}
