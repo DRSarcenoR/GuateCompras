{
 "cells": [
  {
   "cell_type": "markdown",
   "metadata": {},
   "source": [
    "### ULTIMO INTENTO DE HACER WSCRAPINGN EN GUATECOMPRAS"
   ]
  },
  {
   "cell_type": "code",
   "execution_count": 1,
   "metadata": {},
   "outputs": [],
   "source": [
    "from selenium import webdriver\n",
    "from selenium.webdriver.chrome.service import Service\n",
    "from selenium.webdriver.common.by import By\n",
    "from selenium.webdriver.support.ui import Select\n",
    "from selenium.webdriver.support.ui import WebDriverWait\n",
    "from selenium.webdriver.support import expected_conditions as EC\n",
    "import time\n",
    "import os\n",
    "from datetime import datetime\n",
    "import pandas as pd\n",
    "\n",
    "\n",
    "from bs4 import BeautifulSoup\n",
    "import requests"
   ]
  },
  {
   "cell_type": "code",
   "execution_count": 2,
   "metadata": {},
   "outputs": [],
   "source": [
    "# ubicacion de chrome driver y la url que queremos utilizar\n",
    "PATH_TO_DRIVER = 'C:/chromedriver-win32/chromedriver-win32/chromedriver.exe'\n",
    "url = 'https://www.guatecompras.gt/proveedores/busquedaProvee.aspx'"
   ]
  },
  {
   "cell_type": "code",
   "execution_count": 3,
   "metadata": {},
   "outputs": [],
   "source": [
    "# creamos el servicio\n",
    "service = Service(PATH_TO_DRIVER)\n",
    "\n",
    "# inicializamos el navegador con el servicio\n",
    "driver = webdriver.Chrome(service=service)\n",
    "\n",
    "# esperamos a que cargue bien\n",
    "WebDriverWait(driver, 5)\n",
    "\n",
    "# navegamos a la página\n",
    "driver.get(url)"
   ]
  },
  {
   "cell_type": "code",
   "execution_count": 4,
   "metadata": {},
   "outputs": [],
   "source": [
    "# tomamos el html de la página\n",
    "html = driver.page_source\n",
    "\n",
    "# lo parseamos con BeautifulSoup\n",
    "soup = BeautifulSoup(html, 'html.parser')"
   ]
  },
  {
   "cell_type": "code",
   "execution_count": 5,
   "metadata": {},
   "outputs": [],
   "source": [
    "with open('../data/buscador_guatecompras.html', 'w') as bgc:\n",
    "    bgc.write(soup.prettify())"
   ]
  },
  {
   "cell_type": "code",
   "execution_count": 6,
   "metadata": {},
   "outputs": [],
   "source": [
    "nit = '120068907'"
   ]
  },
  {
   "cell_type": "code",
   "execution_count": 7,
   "metadata": {},
   "outputs": [
    {
     "name": "stdout",
     "output_type": "stream",
     "text": [
      "Error: Message: \n",
      "Stacktrace:\n",
      "\tGetHandleVerifier [0x011333E3+25059]\n",
      "\t(No symbol) [0x010BCDE4]\n",
      "\t(No symbol) [0x00F9BEC3]\n",
      "\t(No symbol) [0x00FDFD86]\n",
      "\t(No symbol) [0x00FDFFCB]\n",
      "\t(No symbol) [0x0101D952]\n",
      "\t(No symbol) [0x01001F44]\n",
      "\t(No symbol) [0x0101B51E]\n",
      "\t(No symbol) [0x01001C96]\n",
      "\t(No symbol) [0x00FD3FAC]\n",
      "\t(No symbol) [0x00FD4F3D]\n",
      "\tGetHandleVerifier [0x01425543+3113795]\n",
      "\tGetHandleVerifier [0x0143A20A+3198986]\n",
      "\tGetHandleVerifier [0x014329E2+3168226]\n",
      "\tGetHandleVerifier [0x011D3250+680016]\n",
      "\t(No symbol) [0x010C572D]\n",
      "\t(No symbol) [0x010C29D8]\n",
      "\t(No symbol) [0x010C2B75]\n",
      "\t(No symbol) [0x010B57D0]\n",
      "\tBaseThreadInitThunk [0x75FE7BA9+25]\n",
      "\tRtlInitializeExceptionChain [0x779FC0CB+107]\n",
      "\tRtlClearBits [0x779FC04F+191]\n",
      "\n"
     ]
    }
   ],
   "source": [
    "try: \n",
    "    # esperamos a que el campo del texto este presente\n",
    "    campo_nit = WebDriverWait(driver, 10).until(\n",
    "        EC.presence_of_element_located((By.ID, 'MasterGC_ContentBlockHolder_txtNit'))\n",
    "    )\n",
    "\n",
    "    # ingresamos el valor en el campo del texto\n",
    "    campo_nit.send_keys(nit)\n",
    "\n",
    "    # esperamos a que el boton este presente\n",
    "    boton_buscar = WebDriverWait(driver, 10).until(\n",
    "        EC.element_to_be_clickable((By.ID, 'MasterGC_ContentBlockHolder_cmdNit'))\n",
    "    )\n",
    "\n",
    "    # clicamos el boton\n",
    "    boton_buscar.click()\n",
    "\n",
    "    # Esperamos a que cargue y extraemos el html\n",
    "    WebDriverWait(driver, 10).until(\n",
    "        EC.presence_of_element_located((By.ID, 'MasterGC_ContentBlockHolder_lblNombreProv2'))\n",
    "    )\n",
    "\n",
    "    html = driver.page_source\n",
    "    soup = BeautifulSoup(html, 'html.parser')\n",
    "    with open(f'../html/html_guatecompras/{nit}.html', 'w') as htmlgc:\n",
    "        htmlgc.write(soup.prettify())\n",
    "except Exception as e:\n",
    "    print(f'Error: {e}')"
   ]
  },
  {
   "cell_type": "code",
   "execution_count": null,
   "metadata": {},
   "outputs": [],
   "source": []
  }
 ],
 "metadata": {
  "kernelspec": {
   "display_name": "Python 3",
   "language": "python",
   "name": "python3"
  },
  "language_info": {
   "codemirror_mode": {
    "name": "ipython",
    "version": 3
   },
   "file_extension": ".py",
   "mimetype": "text/x-python",
   "name": "python",
   "nbconvert_exporter": "python",
   "pygments_lexer": "ipython3",
   "version": "3.9.20"
  }
 },
 "nbformat": 4,
 "nbformat_minor": 2
}
