{
 "cells": [
  {
   "cell_type": "code",
   "execution_count": 77,
   "metadata": {},
   "outputs": [],
   "source": [
    "import pandas as pd\n",
    "import numpy as np"
   ]
  },
  {
   "cell_type": "code",
   "execution_count": 78,
   "metadata": {},
   "outputs": [],
   "source": [
    "p1 = pd.read_excel('../data/PROVEEDORES_X_PARTES/PROVEEDORES.xlsx')\n",
    "p2 = pd.read_excel('../data/PROVEEDORES_X_PARTES/PROVEEDORES_parte_2.xlsx')\n",
    "p3 = pd.read_excel('../data/PROVEEDORES_X_PARTES/PROVEEDORES_parte_3.xlsx')\n",
    "p4 = pd.read_excel('../data/PROVEEDORES_X_PARTES/PROVEEDORES_parte_4.xlsx')\n",
    "p5 = pd.read_excel('../data/PROVEEDORES_X_PARTES/PROVEEDORES_A_MANO.xlsx')"
   ]
  },
  {
   "cell_type": "code",
   "execution_count": 79,
   "metadata": {},
   "outputs": [],
   "source": [
    "total = pd.concat([p1, p2, p3, p4, p5], axis=0).reset_index(drop=True)"
   ]
  },
  {
   "cell_type": "code",
   "execution_count": 80,
   "metadata": {},
   "outputs": [
    {
     "data": {
      "text/plain": [
       "(11674, 16)"
      ]
     },
     "execution_count": 80,
     "metadata": {},
     "output_type": "execute_result"
    }
   ],
   "source": [
    "total.shape"
   ]
  },
  {
   "cell_type": "code",
   "execution_count": 81,
   "metadata": {},
   "outputs": [],
   "source": [
    "total_nodup = total.drop_duplicates(keep='first').reset_index(drop=True)"
   ]
  },
  {
   "cell_type": "code",
   "execution_count": 82,
   "metadata": {},
   "outputs": [
    {
     "data": {
      "text/plain": [
       "(7923, 16)"
      ]
     },
     "execution_count": 82,
     "metadata": {},
     "output_type": "execute_result"
    }
   ],
   "source": [
    "total_nodup.shape"
   ]
  },
  {
   "cell_type": "code",
   "execution_count": 83,
   "metadata": {},
   "outputs": [],
   "source": [
    "nits = total.NIT.unique()"
   ]
  },
  {
   "cell_type": "code",
   "execution_count": 84,
   "metadata": {},
   "outputs": [
    {
     "data": {
      "text/plain": [
       "7923"
      ]
     },
     "execution_count": 84,
     "metadata": {},
     "output_type": "execute_result"
    }
   ],
   "source": [
    "len(nits)"
   ]
  },
  {
   "cell_type": "code",
   "execution_count": 85,
   "metadata": {},
   "outputs": [
    {
     "data": {
      "text/html": [
       "<div>\n",
       "<style scoped>\n",
       "    .dataframe tbody tr th:only-of-type {\n",
       "        vertical-align: middle;\n",
       "    }\n",
       "\n",
       "    .dataframe tbody tr th {\n",
       "        vertical-align: top;\n",
       "    }\n",
       "\n",
       "    .dataframe thead th {\n",
       "        text-align: right;\n",
       "    }\n",
       "</style>\n",
       "<table border=\"1\" class=\"dataframe\">\n",
       "  <thead>\n",
       "    <tr style=\"text-align: right;\">\n",
       "      <th></th>\n",
       "      <th>NIT</th>\n",
       "      <th>Nombre</th>\n",
       "      <th>tipo_organizacion</th>\n",
       "      <th>actividad_economica</th>\n",
       "      <th>notario</th>\n",
       "      <th>nit_notario</th>\n",
       "      <th>departamento</th>\n",
       "      <th>municipio</th>\n",
       "      <th>direccion</th>\n",
       "      <th>telefono</th>\n",
       "      <th>inscripcion_sat</th>\n",
       "      <th>estado_sat</th>\n",
       "      <th>estado_rgae</th>\n",
       "      <th>fecha_constitucion</th>\n",
       "      <th>inscripcion_provisional_registro_mercantil</th>\n",
       "      <th>inscripcion_definitiva_registro_mercantil</th>\n",
       "    </tr>\n",
       "  </thead>\n",
       "  <tbody>\n",
       "    <tr>\n",
       "      <th>0</th>\n",
       "      <td>26702827</td>\n",
       "      <td>DISAGRO DE GUATEMALA SOCIEDAD ANONIMA</td>\n",
       "      <td>SOCIEDAD ANÓNIMA</td>\n",
       "      <td>Fabricación de abonos y compuestos de nitrógeno</td>\n",
       "      <td>AYCINENA BANUS JOSE FERNANDO</td>\n",
       "      <td>52809</td>\n",
       "      <td>GUATEMALA</td>\n",
       "      <td>GUATEMALA</td>\n",
       "      <td>ANILLO PERIFERICO 17-36 Z.11</td>\n",
       "      <td>9347137</td>\n",
       "      <td>27/01/2021</td>\n",
       "      <td>Solvente</td>\n",
       "      <td>NO INSCRITO</td>\n",
       "      <td>21/08/2001</td>\n",
       "      <td>17/09/2001</td>\n",
       "      <td>10/10/2001</td>\n",
       "    </tr>\n",
       "    <tr>\n",
       "      <th>1</th>\n",
       "      <td>3454428</td>\n",
       "      <td>SIGMA CONSTRUCTORES SOCIEDAD ANONIMA</td>\n",
       "      <td>SOCIEDAD ANÓNIMA</td>\n",
       "      <td>Actividades de arquitectura e ingeniería y act...</td>\n",
       "      <td>BUCARO HURTARTE SALVADOR</td>\n",
       "      <td>990078</td>\n",
       "      <td>GUATEMALA</td>\n",
       "      <td>MIXCO</td>\n",
       "      <td>7 AVENIDA SAN CRISTOBAL SECTOR A 3 5-62 Z.8</td>\n",
       "      <td>2384 6464</td>\n",
       "      <td>25/08/2022</td>\n",
       "      <td>Solvente</td>\n",
       "      <td>HABILITADO</td>\n",
       "      <td>18/12/1980</td>\n",
       "      <td>19/12/1980</td>\n",
       "      <td>30/04/1981</td>\n",
       "    </tr>\n",
       "  </tbody>\n",
       "</table>\n",
       "</div>"
      ],
      "text/plain": [
       "        NIT                                 Nombre tipo_organizacion  \\\n",
       "0  26702827  DISAGRO DE GUATEMALA SOCIEDAD ANONIMA  SOCIEDAD ANÓNIMA   \n",
       "1   3454428   SIGMA CONSTRUCTORES SOCIEDAD ANONIMA  SOCIEDAD ANÓNIMA   \n",
       "\n",
       "                                 actividad_economica  \\\n",
       "0    Fabricación de abonos y compuestos de nitrógeno   \n",
       "1  Actividades de arquitectura e ingeniería y act...   \n",
       "\n",
       "                        notario nit_notario departamento  municipio  \\\n",
       "0  AYCINENA BANUS JOSE FERNANDO       52809    GUATEMALA  GUATEMALA   \n",
       "1      BUCARO HURTARTE SALVADOR      990078    GUATEMALA      MIXCO   \n",
       "\n",
       "                                     direccion   telefono inscripcion_sat  \\\n",
       "0                 ANILLO PERIFERICO 17-36 Z.11    9347137      27/01/2021   \n",
       "1  7 AVENIDA SAN CRISTOBAL SECTOR A 3 5-62 Z.8  2384 6464      25/08/2022   \n",
       "\n",
       "  estado_sat  estado_rgae fecha_constitucion  \\\n",
       "0   Solvente  NO INSCRITO         21/08/2001   \n",
       "1   Solvente   HABILITADO         18/12/1980   \n",
       "\n",
       "  inscripcion_provisional_registro_mercantil  \\\n",
       "0                                 17/09/2001   \n",
       "1                                 19/12/1980   \n",
       "\n",
       "  inscripcion_definitiva_registro_mercantil  \n",
       "0                                10/10/2001  \n",
       "1                                30/04/1981  "
      ]
     },
     "execution_count": 85,
     "metadata": {},
     "output_type": "execute_result"
    }
   ],
   "source": [
    "total_nodup.head(2)"
   ]
  },
  {
   "cell_type": "code",
   "execution_count": 86,
   "metadata": {},
   "outputs": [],
   "source": [
    "r1 = pd.read_excel('../data/PROVEEDORES_X_PARTES/REPRESENTANTES_LEGALES.xlsx')\n",
    "r2 = pd.read_excel('../data/PROVEEDORES_X_PARTES/REPRESENTANTES_LEGALES_parte_2.xlsx')\n",
    "r3 = pd.read_excel('../data/PROVEEDORES_X_PARTES/REPRESENTANTES_LEGALES_parte_3.xlsx')\n",
    "r4 = pd.read_excel('../data/PROVEEDORES_X_PARTES/REPRESENTANTES_LEGALES_parte_4.xlsx')\n",
    "r5 = pd.read_excel('../data/PROVEEDORES_X_PARTES/REPRESENTANTES_LEGALES_A_MANO.xlsx')"
   ]
  },
  {
   "cell_type": "code",
   "execution_count": 87,
   "metadata": {},
   "outputs": [],
   "source": [
    "reptotal = pd.concat([r1, r2, r3, r4, r5], axis=0).reset_index(drop=True)"
   ]
  },
  {
   "cell_type": "code",
   "execution_count": 88,
   "metadata": {},
   "outputs": [
    {
     "data": {
      "text/plain": [
       "(9992, 3)"
      ]
     },
     "execution_count": 88,
     "metadata": {},
     "output_type": "execute_result"
    }
   ],
   "source": [
    "reptotal.shape"
   ]
  },
  {
   "cell_type": "code",
   "execution_count": 89,
   "metadata": {},
   "outputs": [],
   "source": [
    "reptotal_nodup = reptotal.drop_duplicates(keep='first').reset_index(drop=True)"
   ]
  },
  {
   "cell_type": "code",
   "execution_count": 90,
   "metadata": {},
   "outputs": [
    {
     "data": {
      "text/plain": [
       "(6635, 3)"
      ]
     },
     "execution_count": 90,
     "metadata": {},
     "output_type": "execute_result"
    }
   ],
   "source": [
    "reptotal_nodup.shape"
   ]
  },
  {
   "cell_type": "code",
   "execution_count": 91,
   "metadata": {},
   "outputs": [
    {
     "data": {
      "text/plain": [
       "3862"
      ]
     },
     "execution_count": 91,
     "metadata": {},
     "output_type": "execute_result"
    }
   ],
   "source": [
    "len(reptotal.NIT_empresa.unique())"
   ]
  },
  {
   "cell_type": "code",
   "execution_count": 92,
   "metadata": {},
   "outputs": [
    {
     "data": {
      "text/plain": [
       "(3870, 16)"
      ]
     },
     "execution_count": 92,
     "metadata": {},
     "output_type": "execute_result"
    }
   ],
   "source": [
    "total_nodup[total_nodup['tipo_organizacion'] != 'INDIVIDUAL'].shape"
   ]
  },
  {
   "cell_type": "markdown",
   "metadata": {},
   "source": [
    "#### fechas"
   ]
  },
  {
   "cell_type": "code",
   "execution_count": 93,
   "metadata": {},
   "outputs": [
    {
     "data": {
      "text/plain": [
       "Index(['NIT', 'Nombre', 'tipo_organizacion', 'actividad_economica', 'notario',\n",
       "       'nit_notario', 'departamento', 'municipio', 'direccion', 'telefono',\n",
       "       'inscripcion_sat', 'estado_sat', 'estado_rgae', 'fecha_constitucion',\n",
       "       'inscripcion_provisional_registro_mercantil',\n",
       "       'inscripcion_definitiva_registro_mercantil'],\n",
       "      dtype='object')"
      ]
     },
     "execution_count": 93,
     "metadata": {},
     "output_type": "execute_result"
    }
   ],
   "source": [
    "total_nodup.columns"
   ]
  },
  {
   "cell_type": "code",
   "execution_count": 94,
   "metadata": {},
   "outputs": [],
   "source": [
    "colfecha = ['inscripcion_sat', 'fecha_constitucion',\n",
    "       'inscripcion_provisional_registro_mercantil',\n",
    "       'inscripcion_definitiva_registro_mercantil']\n",
    "\n",
    "for col in colfecha:\n",
    "    total_nodup[col] = pd.to_datetime(total_nodup[col], format='%d/%m/%Y', errors='coerce').dt.strftime('%d/%m/%Y')"
   ]
  },
  {
   "cell_type": "code",
   "execution_count": 97,
   "metadata": {},
   "outputs": [],
   "source": [
    "with pd.ExcelWriter('../output/data_proveedores.xlsx', engine='xlsxwriter') as writer:\n",
    "    total_nodup.to_excel(writer, sheet_name='PROVEEDORES', index=False)\n",
    "    reptotal_nodup.to_excel(writer, sheet_name='REP_LEGALES', index=False)"
   ]
  },
  {
   "cell_type": "code",
   "execution_count": null,
   "metadata": {},
   "outputs": [],
   "source": []
  }
 ],
 "metadata": {
  "kernelspec": {
   "display_name": "Python 3",
   "language": "python",
   "name": "python3"
  },
  "language_info": {
   "codemirror_mode": {
    "name": "ipython",
    "version": 3
   },
   "file_extension": ".py",
   "mimetype": "text/x-python",
   "name": "python",
   "nbconvert_exporter": "python",
   "pygments_lexer": "ipython3",
   "version": "3.9.20"
  }
 },
 "nbformat": 4,
 "nbformat_minor": 2
}
