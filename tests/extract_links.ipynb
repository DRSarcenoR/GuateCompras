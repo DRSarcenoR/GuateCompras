{
 "cells": [
  {
   "cell_type": "code",
   "execution_count": 1,
   "metadata": {},
   "outputs": [],
   "source": [
    "import pandas as pd\n",
    "import json\n",
    "import requests"
   ]
  },
  {
   "cell_type": "code",
   "execution_count": 2,
   "metadata": {},
   "outputs": [],
   "source": [
    "links = [\n",
    "    \"https://raw.githubusercontent.com/open-contracting-extensions/ocds_bid_extension/master/extension.json\",\n",
    "    \"https://raw.githubusercontent.com/open-contracting-extensions/ocds_memberOf_extension/master/extension.json\",\n",
    "    \"https://gitlab.com/dncp-opendata/ocds_item_attributes_extension/-/raw/master/extension.json\",\n",
    "    \"https://raw.githubusercontent.com/open-contracting-extensions/ocds_additionalContactPoints_extension/master/extension.json\",\n",
    "    \"https://gitlab.com/dncp-opendata/ocds_statusdetails_extension/-/raw/master/extension.json\",\n",
    "    \"https://gitlab.com/dncp-opendata/ocds_document_type_details/-/raw/master/extension.json\",\n",
    "    \"https://raw.githubusercontent.com/portaledcahn/ocds_tenderDatePublished_extension/master/extension.json\",\n",
    "    \"https://raw.githubusercontent.com/guatecompras/ocds_partyDetails_publicEntitiesLevelDetails_extension/main/extension.json\",\n",
    "    \"https://bitbucket.org/ONCAETI/ocds_releasesource_extension/raw/master/extension.json\",\n",
    "    \"https://devops11.osce.gob.pe/bitbucket/projects/PROYEC/repos/ocds_releasepublisheddate_extension/raw/extension.json\",\n",
    "    \"https://devops11.osce.gob.pe/bitbucket/projects/PROYEC/repos/ocds_datasegmentation_extension/raw/extension.json\",\n",
    "    \"https://devops11.osce.gob.pe/bitbucket/projects/PROYEC/repos/ocds_currencyname_extension/raw/extension.json\",\n",
    "    \"https://devops11.osce.gob.pe/bitbucket/projects/PROYEC/repos/ocds_department_extension/raw/extension.json\",\n",
    "    \"https://raw.githubusercontent.com/open-contracting-extensions/ocds_contract_completion_extension/master/extension.json\",\n",
    "    \"https://raw.githubusercontent.com/openprocurement/ocds_contractNumber_extension/master/extension.json\"\n",
    "]"
   ]
  },
  {
   "cell_type": "code",
   "execution_count": null,
   "metadata": {},
   "outputs": [],
   "source": [
    "for i in range(len(links)):\n",
    "    # solicitamos la información\n",
    "    response = requests.get(links[i])\n",
    "\n",
    "    if response.status_code == 200:\n",
    "        data = json.loads(response.text)\n",
    "        with open(f'../data/2020-10_links_info/link_{i}.json','w',encoding='UTF-8') as jl:\n",
    "            json.dump(data, jl, indent=4)"
   ]
  },
  {
   "cell_type": "code",
   "execution_count": null,
   "metadata": {},
   "outputs": [],
   "source": []
  }
 ],
 "metadata": {
  "kernelspec": {
   "display_name": "testenv",
   "language": "python",
   "name": "python3"
  },
  "language_info": {
   "codemirror_mode": {
    "name": "ipython",
    "version": 3
   },
   "file_extension": ".py",
   "mimetype": "text/x-python",
   "name": "python",
   "nbconvert_exporter": "python",
   "pygments_lexer": "ipython3",
   "version": "3.13.0"
  }
 },
 "nbformat": 4,
 "nbformat_minor": 2
}
